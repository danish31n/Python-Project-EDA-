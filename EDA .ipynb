{
 "cells": [
  {
   "cell_type": "code",
   "execution_count": 1,
   "id": "9f02cf56-a415-4990-afd3-078478ad8401",
   "metadata": {},
   "outputs": [],
   "source": [
    "import numpy as np\n",
    "import pandas as pd \n",
    "import seaborn as sns\n",
    "import matplotlib.pyplot as plt\n",
    "\n",
    "import warnings\n",
    "\n",
    "warnings.filterwarnings('ignore')"
   ]
  },
  {
   "cell_type": "code",
   "execution_count": 2,
   "id": "a175f8cb-0a2f-4414-abb2-13363c61993a",
   "metadata": {},
   "outputs": [
    {
     "data": {
      "text/html": [
       "<div>\n",
       "<style scoped>\n",
       "    .dataframe tbody tr th:only-of-type {\n",
       "        vertical-align: middle;\n",
       "    }\n",
       "\n",
       "    .dataframe tbody tr th {\n",
       "        vertical-align: top;\n",
       "    }\n",
       "\n",
       "    .dataframe thead th {\n",
       "        text-align: right;\n",
       "    }\n",
       "</style>\n",
       "<table border=\"1\" class=\"dataframe\">\n",
       "  <thead>\n",
       "    <tr style=\"text-align: right;\">\n",
       "      <th></th>\n",
       "      <th>User ID</th>\n",
       "      <th>Area code</th>\n",
       "      <th>Location</th>\n",
       "      <th>Gender</th>\n",
       "      <th>YOB</th>\n",
       "      <th>Marital Status</th>\n",
       "      <th>Activity</th>\n",
       "      <th>Budget</th>\n",
       "      <th>Cuisines</th>\n",
       "      <th>Alcohol</th>\n",
       "      <th>Smoker</th>\n",
       "      <th>Food Rating</th>\n",
       "      <th>Service Rating</th>\n",
       "      <th>Overall Rating</th>\n",
       "      <th>Often A S</th>\n",
       "    </tr>\n",
       "  </thead>\n",
       "  <tbody>\n",
       "    <tr>\n",
       "      <th>0</th>\n",
       "      <td>1</td>\n",
       "      <td>153</td>\n",
       "      <td>Upper East Side,NY</td>\n",
       "      <td>Female</td>\n",
       "      <td>2006</td>\n",
       "      <td>Single</td>\n",
       "      <td>Professional</td>\n",
       "      <td>3</td>\n",
       "      <td>Japanese</td>\n",
       "      <td>Never</td>\n",
       "      <td>Never</td>\n",
       "      <td>5</td>\n",
       "      <td>4</td>\n",
       "      <td>4.5</td>\n",
       "      <td>No</td>\n",
       "    </tr>\n",
       "    <tr>\n",
       "      <th>1</th>\n",
       "      <td>2</td>\n",
       "      <td>123</td>\n",
       "      <td>St. George,NY</td>\n",
       "      <td>Female</td>\n",
       "      <td>1991</td>\n",
       "      <td>Married</td>\n",
       "      <td>Student</td>\n",
       "      <td>3</td>\n",
       "      <td>Indian</td>\n",
       "      <td>Never</td>\n",
       "      <td>Socially</td>\n",
       "      <td>1</td>\n",
       "      <td>1</td>\n",
       "      <td>1</td>\n",
       "      <td>No</td>\n",
       "    </tr>\n",
       "    <tr>\n",
       "      <th>2</th>\n",
       "      <td>3</td>\n",
       "      <td>122</td>\n",
       "      <td>Upper West Side,NY</td>\n",
       "      <td>Male</td>\n",
       "      <td>1977</td>\n",
       "      <td>Single</td>\n",
       "      <td>Student</td>\n",
       "      <td>5</td>\n",
       "      <td>Seafood</td>\n",
       "      <td>Often</td>\n",
       "      <td>Often</td>\n",
       "      <td>5</td>\n",
       "      <td>5</td>\n",
       "      <td>5</td>\n",
       "      <td>Yes</td>\n",
       "    </tr>\n",
       "    <tr>\n",
       "      <th>3</th>\n",
       "      <td>4</td>\n",
       "      <td>153</td>\n",
       "      <td>Upper East Side,NY</td>\n",
       "      <td>Female</td>\n",
       "      <td>1956</td>\n",
       "      <td>Married</td>\n",
       "      <td>Professional</td>\n",
       "      <td>5</td>\n",
       "      <td>Japanese</td>\n",
       "      <td>Never</td>\n",
       "      <td>Socially</td>\n",
       "      <td>3</td>\n",
       "      <td>1</td>\n",
       "      <td>2</td>\n",
       "      <td>No</td>\n",
       "    </tr>\n",
       "    <tr>\n",
       "      <th>4</th>\n",
       "      <td>5</td>\n",
       "      <td>129</td>\n",
       "      <td>Central Park,NY</td>\n",
       "      <td>Male</td>\n",
       "      <td>1997</td>\n",
       "      <td>Single</td>\n",
       "      <td>Student</td>\n",
       "      <td>4</td>\n",
       "      <td>Filipino</td>\n",
       "      <td>Socially</td>\n",
       "      <td>Never</td>\n",
       "      <td>2</td>\n",
       "      <td>4</td>\n",
       "      <td>3</td>\n",
       "      <td>No</td>\n",
       "    </tr>\n",
       "    <tr>\n",
       "      <th>...</th>\n",
       "      <td>...</td>\n",
       "      <td>...</td>\n",
       "      <td>...</td>\n",
       "      <td>...</td>\n",
       "      <td>...</td>\n",
       "      <td>...</td>\n",
       "      <td>...</td>\n",
       "      <td>...</td>\n",
       "      <td>...</td>\n",
       "      <td>...</td>\n",
       "      <td>...</td>\n",
       "      <td>...</td>\n",
       "      <td>...</td>\n",
       "      <td>...</td>\n",
       "      <td>...</td>\n",
       "    </tr>\n",
       "    <tr>\n",
       "      <th>1395</th>\n",
       "      <td>1396</td>\n",
       "      <td>157</td>\n",
       "      <td>Central Park,NY</td>\n",
       "      <td>Male</td>\n",
       "      <td>1975</td>\n",
       "      <td>NaN</td>\n",
       "      <td>Student</td>\n",
       "      <td>5</td>\n",
       "      <td>Seayood</td>\n",
       "      <td>NaN</td>\n",
       "      <td>Often</td>\n",
       "      <td>4</td>\n",
       "      <td>2</td>\n",
       "      <td>excellent</td>\n",
       "      <td>Yes</td>\n",
       "    </tr>\n",
       "    <tr>\n",
       "      <th>1396</th>\n",
       "      <td>1397</td>\n",
       "      <td>175</td>\n",
       "      <td>China Town, NY</td>\n",
       "      <td>Female</td>\n",
       "      <td>1995</td>\n",
       "      <td>Divorced</td>\n",
       "      <td>Student</td>\n",
       "      <td>3</td>\n",
       "      <td>French</td>\n",
       "      <td>NaN</td>\n",
       "      <td>NaN</td>\n",
       "      <td>5</td>\n",
       "      <td>3</td>\n",
       "      <td>NaN</td>\n",
       "      <td>No</td>\n",
       "    </tr>\n",
       "    <tr>\n",
       "      <th>1397</th>\n",
       "      <td>1398</td>\n",
       "      <td>199</td>\n",
       "      <td>China Tswn, NY</td>\n",
       "      <td>Female</td>\n",
       "      <td>1993</td>\n",
       "      <td>Married</td>\n",
       "      <td>Student</td>\n",
       "      <td>low</td>\n",
       "      <td>Indian</td>\n",
       "      <td>NaN</td>\n",
       "      <td>Often</td>\n",
       "      <td>4</td>\n",
       "      <td>1</td>\n",
       "      <td>2.5</td>\n",
       "      <td>NaN</td>\n",
       "    </tr>\n",
       "    <tr>\n",
       "      <th>1398</th>\n",
       "      <td>1399</td>\n",
       "      <td>103</td>\n",
       "      <td>Central Park,ny</td>\n",
       "      <td>Female</td>\n",
       "      <td>1973</td>\n",
       "      <td>NaN</td>\n",
       "      <td>Student</td>\n",
       "      <td>high</td>\n",
       "      <td>Seafood</td>\n",
       "      <td>NaN</td>\n",
       "      <td>NaN</td>\n",
       "      <td>5</td>\n",
       "      <td>NaN</td>\n",
       "      <td>2.5</td>\n",
       "      <td>N</td>\n",
       "    </tr>\n",
       "    <tr>\n",
       "      <th>1399</th>\n",
       "      <td>1400</td>\n",
       "      <td>139</td>\n",
       "      <td>St. George,NY</td>\n",
       "      <td>Female</td>\n",
       "      <td>1925</td>\n",
       "      <td>NaN</td>\n",
       "      <td>Professional</td>\n",
       "      <td>low</td>\n",
       "      <td>French</td>\n",
       "      <td>NaN</td>\n",
       "      <td>Socially</td>\n",
       "      <td>4</td>\n",
       "      <td>5</td>\n",
       "      <td>NaN</td>\n",
       "      <td>N</td>\n",
       "    </tr>\n",
       "  </tbody>\n",
       "</table>\n",
       "<p>1400 rows × 15 columns</p>\n",
       "</div>"
      ],
      "text/plain": [
       "      User ID  Area code            Location  Gender   YOB Marital Status  \\\n",
       "0           1        153  Upper East Side,NY  Female  2006         Single   \n",
       "1           2        123       St. George,NY  Female  1991        Married   \n",
       "2           3        122  Upper West Side,NY    Male  1977         Single   \n",
       "3           4        153  Upper East Side,NY  Female  1956        Married   \n",
       "4           5        129     Central Park,NY    Male  1997         Single   \n",
       "...       ...        ...                 ...     ...   ...            ...   \n",
       "1395     1396        157     Central Park,NY    Male  1975            NaN   \n",
       "1396     1397        175      China Town, NY  Female  1995       Divorced   \n",
       "1397     1398        199      China Tswn, NY  Female  1993        Married   \n",
       "1398     1399        103     Central Park,ny  Female  1973            NaN   \n",
       "1399     1400        139       St. George,NY  Female  1925            NaN   \n",
       "\n",
       "          Activity Budget  Cuisines  Alcohol     Smoker Food Rating  \\\n",
       "0     Professional      3  Japanese     Never     Never           5   \n",
       "1          Student      3    Indian     Never  Socially           1   \n",
       "2          Student      5   Seafood     Often     Often           5   \n",
       "3     Professional      5  Japanese     Never  Socially           3   \n",
       "4          Student      4  Filipino  Socially     Never           2   \n",
       "...            ...    ...       ...       ...       ...         ...   \n",
       "1395       Student      5   Seayood       NaN     Often           4   \n",
       "1396       Student      3    French       NaN       NaN           5   \n",
       "1397       Student    low    Indian       NaN     Often           4   \n",
       "1398       Student   high   Seafood       NaN       NaN           5   \n",
       "1399  Professional    low    French       NaN  Socially           4   \n",
       "\n",
       "     Service Rating Overall Rating Often A S  \n",
       "0                 4            4.5        No  \n",
       "1                 1              1        No  \n",
       "2                 5              5       Yes  \n",
       "3                 1              2        No  \n",
       "4                 4              3        No  \n",
       "...             ...            ...       ...  \n",
       "1395              2      excellent       Yes  \n",
       "1396              3            NaN        No  \n",
       "1397              1            2.5       NaN  \n",
       "1398            NaN            2.5         N  \n",
       "1399              5            NaN         N  \n",
       "\n",
       "[1400 rows x 15 columns]"
      ]
     },
     "execution_count": 2,
     "metadata": {},
     "output_type": "execute_result"
    }
   ],
   "source": [
    "df = pd.read_csv('Cuisine_rating.csv')\n",
    "df"
   ]
  },
  {
   "cell_type": "code",
   "execution_count": 3,
   "id": "d8febd7a-c431-43ea-9fb7-355b6909f8e7",
   "metadata": {},
   "outputs": [
    {
     "data": {
      "text/html": [
       "<div>\n",
       "<style scoped>\n",
       "    .dataframe tbody tr th:only-of-type {\n",
       "        vertical-align: middle;\n",
       "    }\n",
       "\n",
       "    .dataframe tbody tr th {\n",
       "        vertical-align: top;\n",
       "    }\n",
       "\n",
       "    .dataframe thead th {\n",
       "        text-align: right;\n",
       "    }\n",
       "</style>\n",
       "<table border=\"1\" class=\"dataframe\">\n",
       "  <thead>\n",
       "    <tr style=\"text-align: right;\">\n",
       "      <th></th>\n",
       "      <th>User ID</th>\n",
       "      <th>Area code</th>\n",
       "      <th>Location</th>\n",
       "      <th>Gender</th>\n",
       "      <th>YOB</th>\n",
       "      <th>Marital Status</th>\n",
       "      <th>Activity</th>\n",
       "      <th>Budget</th>\n",
       "      <th>Cuisines</th>\n",
       "      <th>Alcohol</th>\n",
       "      <th>Smoker</th>\n",
       "      <th>Food Rating</th>\n",
       "      <th>Service Rating</th>\n",
       "      <th>Overall Rating</th>\n",
       "      <th>Often A S</th>\n",
       "    </tr>\n",
       "  </thead>\n",
       "  <tbody>\n",
       "    <tr>\n",
       "      <th>0</th>\n",
       "      <td>1</td>\n",
       "      <td>153</td>\n",
       "      <td>Upper East Side,NY</td>\n",
       "      <td>Female</td>\n",
       "      <td>2006</td>\n",
       "      <td>Single</td>\n",
       "      <td>Professional</td>\n",
       "      <td>3</td>\n",
       "      <td>Japanese</td>\n",
       "      <td>Never</td>\n",
       "      <td>Never</td>\n",
       "      <td>5</td>\n",
       "      <td>4</td>\n",
       "      <td>4.5</td>\n",
       "      <td>No</td>\n",
       "    </tr>\n",
       "    <tr>\n",
       "      <th>1</th>\n",
       "      <td>2</td>\n",
       "      <td>123</td>\n",
       "      <td>St. George,NY</td>\n",
       "      <td>Female</td>\n",
       "      <td>1991</td>\n",
       "      <td>Married</td>\n",
       "      <td>Student</td>\n",
       "      <td>3</td>\n",
       "      <td>Indian</td>\n",
       "      <td>Never</td>\n",
       "      <td>Socially</td>\n",
       "      <td>1</td>\n",
       "      <td>1</td>\n",
       "      <td>1</td>\n",
       "      <td>No</td>\n",
       "    </tr>\n",
       "    <tr>\n",
       "      <th>2</th>\n",
       "      <td>3</td>\n",
       "      <td>122</td>\n",
       "      <td>Upper West Side,NY</td>\n",
       "      <td>Male</td>\n",
       "      <td>1977</td>\n",
       "      <td>Single</td>\n",
       "      <td>Student</td>\n",
       "      <td>5</td>\n",
       "      <td>Seafood</td>\n",
       "      <td>Often</td>\n",
       "      <td>Often</td>\n",
       "      <td>5</td>\n",
       "      <td>5</td>\n",
       "      <td>5</td>\n",
       "      <td>Yes</td>\n",
       "    </tr>\n",
       "    <tr>\n",
       "      <th>3</th>\n",
       "      <td>4</td>\n",
       "      <td>153</td>\n",
       "      <td>Upper East Side,NY</td>\n",
       "      <td>Female</td>\n",
       "      <td>1956</td>\n",
       "      <td>Married</td>\n",
       "      <td>Professional</td>\n",
       "      <td>5</td>\n",
       "      <td>Japanese</td>\n",
       "      <td>Never</td>\n",
       "      <td>Socially</td>\n",
       "      <td>3</td>\n",
       "      <td>1</td>\n",
       "      <td>2</td>\n",
       "      <td>No</td>\n",
       "    </tr>\n",
       "    <tr>\n",
       "      <th>4</th>\n",
       "      <td>5</td>\n",
       "      <td>129</td>\n",
       "      <td>Central Park,NY</td>\n",
       "      <td>Male</td>\n",
       "      <td>1997</td>\n",
       "      <td>Single</td>\n",
       "      <td>Student</td>\n",
       "      <td>4</td>\n",
       "      <td>Filipino</td>\n",
       "      <td>Socially</td>\n",
       "      <td>Never</td>\n",
       "      <td>2</td>\n",
       "      <td>4</td>\n",
       "      <td>3</td>\n",
       "      <td>No</td>\n",
       "    </tr>\n",
       "  </tbody>\n",
       "</table>\n",
       "</div>"
      ],
      "text/plain": [
       "   User ID  Area code            Location  Gender   YOB Marital Status  \\\n",
       "0        1        153  Upper East Side,NY  Female  2006         Single   \n",
       "1        2        123       St. George,NY  Female  1991        Married   \n",
       "2        3        122  Upper West Side,NY    Male  1977         Single   \n",
       "3        4        153  Upper East Side,NY  Female  1956        Married   \n",
       "4        5        129     Central Park,NY    Male  1997         Single   \n",
       "\n",
       "       Activity Budget  Cuisines  Alcohol     Smoker Food Rating  \\\n",
       "0  Professional      3  Japanese     Never     Never           5   \n",
       "1       Student      3    Indian     Never  Socially           1   \n",
       "2       Student      5   Seafood     Often     Often           5   \n",
       "3  Professional      5  Japanese     Never  Socially           3   \n",
       "4       Student      4  Filipino  Socially     Never           2   \n",
       "\n",
       "  Service Rating Overall Rating Often A S  \n",
       "0              4            4.5        No  \n",
       "1              1              1        No  \n",
       "2              5              5       Yes  \n",
       "3              1              2        No  \n",
       "4              4              3        No  "
      ]
     },
     "execution_count": 3,
     "metadata": {},
     "output_type": "execute_result"
    }
   ],
   "source": [
    "df.head()"
   ]
  },
  {
   "cell_type": "code",
   "execution_count": 4,
   "id": "c9bc1e32-fa7c-4e8a-984d-85256d7031f2",
   "metadata": {},
   "outputs": [
    {
     "data": {
      "text/html": [
       "<div>\n",
       "<style scoped>\n",
       "    .dataframe tbody tr th:only-of-type {\n",
       "        vertical-align: middle;\n",
       "    }\n",
       "\n",
       "    .dataframe tbody tr th {\n",
       "        vertical-align: top;\n",
       "    }\n",
       "\n",
       "    .dataframe thead th {\n",
       "        text-align: right;\n",
       "    }\n",
       "</style>\n",
       "<table border=\"1\" class=\"dataframe\">\n",
       "  <thead>\n",
       "    <tr style=\"text-align: right;\">\n",
       "      <th></th>\n",
       "      <th>User ID</th>\n",
       "      <th>Area code</th>\n",
       "      <th>Location</th>\n",
       "      <th>Gender</th>\n",
       "      <th>YOB</th>\n",
       "      <th>Marital Status</th>\n",
       "      <th>Activity</th>\n",
       "      <th>Budget</th>\n",
       "      <th>Cuisines</th>\n",
       "      <th>Alcohol</th>\n",
       "      <th>Smoker</th>\n",
       "      <th>Food Rating</th>\n",
       "      <th>Service Rating</th>\n",
       "      <th>Overall Rating</th>\n",
       "      <th>Often A S</th>\n",
       "    </tr>\n",
       "  </thead>\n",
       "  <tbody>\n",
       "    <tr>\n",
       "      <th>1395</th>\n",
       "      <td>1396</td>\n",
       "      <td>157</td>\n",
       "      <td>Central Park,NY</td>\n",
       "      <td>Male</td>\n",
       "      <td>1975</td>\n",
       "      <td>NaN</td>\n",
       "      <td>Student</td>\n",
       "      <td>5</td>\n",
       "      <td>Seayood</td>\n",
       "      <td>NaN</td>\n",
       "      <td>Often</td>\n",
       "      <td>4</td>\n",
       "      <td>2</td>\n",
       "      <td>excellent</td>\n",
       "      <td>Yes</td>\n",
       "    </tr>\n",
       "    <tr>\n",
       "      <th>1396</th>\n",
       "      <td>1397</td>\n",
       "      <td>175</td>\n",
       "      <td>China Town, NY</td>\n",
       "      <td>Female</td>\n",
       "      <td>1995</td>\n",
       "      <td>Divorced</td>\n",
       "      <td>Student</td>\n",
       "      <td>3</td>\n",
       "      <td>French</td>\n",
       "      <td>NaN</td>\n",
       "      <td>NaN</td>\n",
       "      <td>5</td>\n",
       "      <td>3</td>\n",
       "      <td>NaN</td>\n",
       "      <td>No</td>\n",
       "    </tr>\n",
       "    <tr>\n",
       "      <th>1397</th>\n",
       "      <td>1398</td>\n",
       "      <td>199</td>\n",
       "      <td>China Tswn, NY</td>\n",
       "      <td>Female</td>\n",
       "      <td>1993</td>\n",
       "      <td>Married</td>\n",
       "      <td>Student</td>\n",
       "      <td>low</td>\n",
       "      <td>Indian</td>\n",
       "      <td>NaN</td>\n",
       "      <td>Often</td>\n",
       "      <td>4</td>\n",
       "      <td>1</td>\n",
       "      <td>2.5</td>\n",
       "      <td>NaN</td>\n",
       "    </tr>\n",
       "    <tr>\n",
       "      <th>1398</th>\n",
       "      <td>1399</td>\n",
       "      <td>103</td>\n",
       "      <td>Central Park,ny</td>\n",
       "      <td>Female</td>\n",
       "      <td>1973</td>\n",
       "      <td>NaN</td>\n",
       "      <td>Student</td>\n",
       "      <td>high</td>\n",
       "      <td>Seafood</td>\n",
       "      <td>NaN</td>\n",
       "      <td>NaN</td>\n",
       "      <td>5</td>\n",
       "      <td>NaN</td>\n",
       "      <td>2.5</td>\n",
       "      <td>N</td>\n",
       "    </tr>\n",
       "    <tr>\n",
       "      <th>1399</th>\n",
       "      <td>1400</td>\n",
       "      <td>139</td>\n",
       "      <td>St. George,NY</td>\n",
       "      <td>Female</td>\n",
       "      <td>1925</td>\n",
       "      <td>NaN</td>\n",
       "      <td>Professional</td>\n",
       "      <td>low</td>\n",
       "      <td>French</td>\n",
       "      <td>NaN</td>\n",
       "      <td>Socially</td>\n",
       "      <td>4</td>\n",
       "      <td>5</td>\n",
       "      <td>NaN</td>\n",
       "      <td>N</td>\n",
       "    </tr>\n",
       "  </tbody>\n",
       "</table>\n",
       "</div>"
      ],
      "text/plain": [
       "      User ID  Area code         Location  Gender   YOB Marital Status  \\\n",
       "1395     1396        157  Central Park,NY    Male  1975            NaN   \n",
       "1396     1397        175   China Town, NY  Female  1995       Divorced   \n",
       "1397     1398        199   China Tswn, NY  Female  1993        Married   \n",
       "1398     1399        103  Central Park,ny  Female  1973            NaN   \n",
       "1399     1400        139    St. George,NY  Female  1925            NaN   \n",
       "\n",
       "          Activity Budget Cuisines Alcohol     Smoker Food Rating  \\\n",
       "1395       Student      5  Seayood      NaN     Often           4   \n",
       "1396       Student      3   French      NaN       NaN           5   \n",
       "1397       Student    low   Indian      NaN     Often           4   \n",
       "1398       Student   high  Seafood      NaN       NaN           5   \n",
       "1399  Professional    low   French      NaN  Socially           4   \n",
       "\n",
       "     Service Rating Overall Rating Often A S  \n",
       "1395              2      excellent       Yes  \n",
       "1396              3            NaN        No  \n",
       "1397              1            2.5       NaN  \n",
       "1398            NaN            2.5         N  \n",
       "1399              5            NaN         N  "
      ]
     },
     "execution_count": 4,
     "metadata": {},
     "output_type": "execute_result"
    }
   ],
   "source": [
    "df.tail()"
   ]
  },
  {
   "cell_type": "code",
   "execution_count": 5,
   "id": "733cd1f2-29dd-4836-b6e2-e319b1ecf7fa",
   "metadata": {},
   "outputs": [
    {
     "data": {
      "text/html": [
       "<div>\n",
       "<style scoped>\n",
       "    .dataframe tbody tr th:only-of-type {\n",
       "        vertical-align: middle;\n",
       "    }\n",
       "\n",
       "    .dataframe tbody tr th {\n",
       "        vertical-align: top;\n",
       "    }\n",
       "\n",
       "    .dataframe thead th {\n",
       "        text-align: right;\n",
       "    }\n",
       "</style>\n",
       "<table border=\"1\" class=\"dataframe\">\n",
       "  <thead>\n",
       "    <tr style=\"text-align: right;\">\n",
       "      <th></th>\n",
       "      <th>User ID</th>\n",
       "      <th>Area code</th>\n",
       "      <th>Location</th>\n",
       "      <th>Gender</th>\n",
       "      <th>YOB</th>\n",
       "      <th>Marital Status</th>\n",
       "      <th>Activity</th>\n",
       "      <th>Budget</th>\n",
       "      <th>Cuisines</th>\n",
       "      <th>Alcohol</th>\n",
       "      <th>Smoker</th>\n",
       "      <th>Food Rating</th>\n",
       "      <th>Service Rating</th>\n",
       "      <th>Overall Rating</th>\n",
       "      <th>Often A S</th>\n",
       "    </tr>\n",
       "  </thead>\n",
       "  <tbody>\n",
       "    <tr>\n",
       "      <th>1362</th>\n",
       "      <td>1363</td>\n",
       "      <td>192</td>\n",
       "      <td>Upper West Side,NY</td>\n",
       "      <td>Female</td>\n",
       "      <td>1923</td>\n",
       "      <td>NaN</td>\n",
       "      <td>Professional</td>\n",
       "      <td>NaN</td>\n",
       "      <td>Indian</td>\n",
       "      <td>NaN</td>\n",
       "      <td>NaN</td>\n",
       "      <td>5</td>\n",
       "      <td>1</td>\n",
       "      <td>NaN</td>\n",
       "      <td>No</td>\n",
       "    </tr>\n",
       "    <tr>\n",
       "      <th>253</th>\n",
       "      <td>254</td>\n",
       "      <td>129</td>\n",
       "      <td>Central Parx,ny</td>\n",
       "      <td>Male</td>\n",
       "      <td>2007</td>\n",
       "      <td>Married</td>\n",
       "      <td>Pmofessional</td>\n",
       "      <td>4</td>\n",
       "      <td>Indian</td>\n",
       "      <td>NaN</td>\n",
       "      <td>Often</td>\n",
       "      <td>5</td>\n",
       "      <td>4</td>\n",
       "      <td>1</td>\n",
       "      <td>No</td>\n",
       "    </tr>\n",
       "  </tbody>\n",
       "</table>\n",
       "</div>"
      ],
      "text/plain": [
       "      User ID  Area code            Location  Gender   YOB Marital Status  \\\n",
       "1362     1363        192  Upper West Side,NY  Female  1923            NaN   \n",
       "253       254        129     Central Parx,ny    Male  2007        Married   \n",
       "\n",
       "          Activity Budget Cuisines Alcohol  Smoker Food Rating Service Rating  \\\n",
       "1362  Professional    NaN   Indian      NaN    NaN           5              1   \n",
       "253   Pmofessional      4   Indian      NaN  Often           5              4   \n",
       "\n",
       "     Overall Rating Often A S  \n",
       "1362            NaN        No  \n",
       "253               1        No  "
      ]
     },
     "execution_count": 5,
     "metadata": {},
     "output_type": "execute_result"
    }
   ],
   "source": [
    "df.sample(2)"
   ]
  },
  {
   "cell_type": "code",
   "execution_count": 6,
   "id": "986be7c0-de50-4f97-aca3-40d69f37a8ef",
   "metadata": {},
   "outputs": [
    {
     "data": {
      "text/plain": [
       "Index(['User ID', 'Area code', 'Location', 'Gender', 'YOB', 'Marital Status',\n",
       "       'Activity', 'Budget', 'Cuisines', 'Alcohol ', 'Smoker', 'Food Rating',\n",
       "       'Service Rating', 'Overall Rating', 'Often A S'],\n",
       "      dtype='object')"
      ]
     },
     "execution_count": 6,
     "metadata": {},
     "output_type": "execute_result"
    }
   ],
   "source": [
    "df.columns"
   ]
  },
  {
   "cell_type": "code",
   "execution_count": 7,
   "id": "6e12b483-dc58-4c9b-aa6a-0923d2735465",
   "metadata": {},
   "outputs": [
    {
     "data": {
      "text/plain": [
       "(1400, 15)"
      ]
     },
     "execution_count": 7,
     "metadata": {},
     "output_type": "execute_result"
    }
   ],
   "source": [
    "df.shape"
   ]
  },
  {
   "cell_type": "code",
   "execution_count": 8,
   "id": "ef6aaf42-112e-4a8d-a084-52cee5750de1",
   "metadata": {},
   "outputs": [
    {
     "data": {
      "text/plain": [
       "User ID            int64\n",
       "Area code          int64\n",
       "Location          object\n",
       "Gender            object\n",
       "YOB               object\n",
       "Marital Status    object\n",
       "Activity          object\n",
       "Budget            object\n",
       "Cuisines          object\n",
       "Alcohol           object\n",
       "Smoker            object\n",
       "Food Rating       object\n",
       "Service Rating    object\n",
       "Overall Rating    object\n",
       "Often A S         object\n",
       "dtype: object"
      ]
     },
     "execution_count": 8,
     "metadata": {},
     "output_type": "execute_result"
    }
   ],
   "source": [
    "df.dtypes"
   ]
  },
  {
   "cell_type": "code",
   "execution_count": 9,
   "id": "1dde1ead-3eef-4788-818a-383b41033101",
   "metadata": {},
   "outputs": [
    {
     "name": "stdout",
     "output_type": "stream",
     "text": [
      "<class 'pandas.core.frame.DataFrame'>\n",
      "RangeIndex: 1400 entries, 0 to 1399\n",
      "Data columns (total 15 columns):\n",
      " #   Column          Non-Null Count  Dtype \n",
      "---  ------          --------------  ----- \n",
      " 0   User ID         1400 non-null   int64 \n",
      " 1   Area code       1400 non-null   int64 \n",
      " 2   Location        1400 non-null   object\n",
      " 3   Gender          1343 non-null   object\n",
      " 4   YOB             1322 non-null   object\n",
      " 5   Marital Status  831 non-null    object\n",
      " 6   Activity        1400 non-null   object\n",
      " 7   Budget          1239 non-null   object\n",
      " 8   Cuisines        1400 non-null   object\n",
      " 9   Alcohol         200 non-null    object\n",
      " 10  Smoker          975 non-null    object\n",
      " 11  Food Rating     1344 non-null   object\n",
      " 12  Service Rating  1335 non-null   object\n",
      " 13  Overall Rating  1090 non-null   object\n",
      " 14  Often A S       979 non-null    object\n",
      "dtypes: int64(2), object(13)\n",
      "memory usage: 164.2+ KB\n"
     ]
    }
   ],
   "source": [
    "df.info()"
   ]
  },
  {
   "cell_type": "code",
   "execution_count": 10,
   "id": "fba9e2ae-02a1-44ba-801f-6a021bc72f5a",
   "metadata": {},
   "outputs": [
    {
     "data": {
      "text/plain": [
       "np.int64(0)"
      ]
     },
     "execution_count": 10,
     "metadata": {},
     "output_type": "execute_result"
    }
   ],
   "source": [
    "df.duplicated().sum()     # There are no null values"
   ]
  },
  {
   "cell_type": "code",
   "execution_count": 11,
   "id": "dac7ea12-abb3-4b35-9119-3ddbfec3c6e0",
   "metadata": {},
   "outputs": [
    {
     "data": {
      "text/html": [
       "<div>\n",
       "<style scoped>\n",
       "    .dataframe tbody tr th:only-of-type {\n",
       "        vertical-align: middle;\n",
       "    }\n",
       "\n",
       "    .dataframe tbody tr th {\n",
       "        vertical-align: top;\n",
       "    }\n",
       "\n",
       "    .dataframe thead th {\n",
       "        text-align: right;\n",
       "    }\n",
       "</style>\n",
       "<table border=\"1\" class=\"dataframe\">\n",
       "  <thead>\n",
       "    <tr style=\"text-align: right;\">\n",
       "      <th></th>\n",
       "      <th>User ID</th>\n",
       "      <th>Area code</th>\n",
       "    </tr>\n",
       "  </thead>\n",
       "  <tbody>\n",
       "    <tr>\n",
       "      <th>count</th>\n",
       "      <td>1400.0000</td>\n",
       "      <td>1400.000000</td>\n",
       "    </tr>\n",
       "    <tr>\n",
       "      <th>mean</th>\n",
       "      <td>700.5000</td>\n",
       "      <td>149.285714</td>\n",
       "    </tr>\n",
       "    <tr>\n",
       "      <th>std</th>\n",
       "      <td>404.2895</td>\n",
       "      <td>29.258500</td>\n",
       "    </tr>\n",
       "    <tr>\n",
       "      <th>min</th>\n",
       "      <td>1.0000</td>\n",
       "      <td>101.000000</td>\n",
       "    </tr>\n",
       "    <tr>\n",
       "      <th>25%</th>\n",
       "      <td>350.7500</td>\n",
       "      <td>124.000000</td>\n",
       "    </tr>\n",
       "    <tr>\n",
       "      <th>50%</th>\n",
       "      <td>700.5000</td>\n",
       "      <td>149.000000</td>\n",
       "    </tr>\n",
       "    <tr>\n",
       "      <th>75%</th>\n",
       "      <td>1050.2500</td>\n",
       "      <td>175.000000</td>\n",
       "    </tr>\n",
       "    <tr>\n",
       "      <th>max</th>\n",
       "      <td>1400.0000</td>\n",
       "      <td>199.000000</td>\n",
       "    </tr>\n",
       "  </tbody>\n",
       "</table>\n",
       "</div>"
      ],
      "text/plain": [
       "         User ID    Area code\n",
       "count  1400.0000  1400.000000\n",
       "mean    700.5000   149.285714\n",
       "std     404.2895    29.258500\n",
       "min       1.0000   101.000000\n",
       "25%     350.7500   124.000000\n",
       "50%     700.5000   149.000000\n",
       "75%    1050.2500   175.000000\n",
       "max    1400.0000   199.000000"
      ]
     },
     "execution_count": 11,
     "metadata": {},
     "output_type": "execute_result"
    }
   ],
   "source": [
    "df.describe()\n",
    "\n",
    "# User ID is not useful for modelling or Analysis, but fine for referencing or indexing users.\n",
    "\n",
    "#The Area code values range from 101 to 199, with a mean of approximately 149.3 and a standard deviation of 29.3. The 25th, 50th, and 75th percentiles \n",
    "#fall at 124, 149, and 175, respectively, indicating a relatively even spread.\n",
    "\n",
    "#These groupings imply that users are fairly evenly distributed across geographic clusters, making this feature potentially valuable for regional\n",
    "#segmentation or targeted analysis.\n",
    "\n"
   ]
  },
  {
   "cell_type": "code",
   "execution_count": 12,
   "id": "9e1f9ded-90db-427e-bc5d-11bfdaf9a64c",
   "metadata": {},
   "outputs": [],
   "source": [
    "# renaming Activity column with Occupation_Status\n",
    "\n",
    "df = df.rename(columns= {'Activity': 'Occupation_Status'})"
   ]
  },
  {
   "cell_type": "markdown",
   "id": "1798668e-3308-42bd-9679-f3f660cd8da0",
   "metadata": {},
   "source": [
    "# Missing Value Treatment "
   ]
  },
  {
   "cell_type": "code",
   "execution_count": 13,
   "id": "657d1535-e099-4785-be56-c2df5d73eb14",
   "metadata": {},
   "outputs": [
    {
     "data": {
      "text/plain": [
       "User ID                 0\n",
       "Area code               0\n",
       "Location                0\n",
       "Gender                 57\n",
       "YOB                    78\n",
       "Marital Status        569\n",
       "Occupation_Status       0\n",
       "Budget                161\n",
       "Cuisines                0\n",
       "Alcohol              1200\n",
       "Smoker                425\n",
       "Food Rating            56\n",
       "Service Rating         65\n",
       "Overall Rating        310\n",
       "Often A S             421\n",
       "dtype: int64"
      ]
     },
     "execution_count": 13,
     "metadata": {},
     "output_type": "execute_result"
    }
   ],
   "source": [
    "df.isnull().sum() "
   ]
  },
  {
   "cell_type": "markdown",
   "id": "2498c779-26fe-48a3-b6f8-e8be9233088b",
   "metadata": {},
   "source": [
    "# Gender"
   ]
  },
  {
   "cell_type": "code",
   "execution_count": 14,
   "id": "fdad3d03-315b-4214-977f-73717b0c7333",
   "metadata": {},
   "outputs": [
    {
     "data": {
      "text/plain": [
       "array(['Female', 'Male', nan, 'Mle', 'Fmale', 'Unknown'], dtype=object)"
      ]
     },
     "execution_count": 14,
     "metadata": {},
     "output_type": "execute_result"
    }
   ],
   "source": [
    "df.Gender.unique()"
   ]
  },
  {
   "cell_type": "code",
   "execution_count": 15,
   "id": "2cf82649-7fa0-4c47-b7ba-82e116e55c4d",
   "metadata": {},
   "outputs": [
    {
     "data": {
      "text/plain": [
       "array(['Female', 'Male', nan], dtype=object)"
      ]
     },
     "execution_count": 15,
     "metadata": {},
     "output_type": "execute_result"
    }
   ],
   "source": [
    "def gender_clean(val):\n",
    "    if isinstance(val, str):\n",
    "        v_lower = val.lower()\n",
    "        if v_lower in ['female', 'fmale']:\n",
    "            return 'Female'\n",
    "                \n",
    "        elif  v_lower in ['male', 'mle']:\n",
    "            return 'Male'\n",
    "\n",
    "        elif  v_lower == 'unknown':\n",
    "            return np.nan\n",
    "    return val\n",
    "\n",
    "df['Gender'] = df['Gender'].apply(gender_clean)\n",
    "df.Gender.unique()"
   ]
  },
  {
   "cell_type": "code",
   "execution_count": 16,
   "id": "647777c2-3898-4b14-a5c0-503a7932669b",
   "metadata": {},
   "outputs": [
    {
     "data": {
      "text/plain": [
       "Gender\n",
       "Male      656\n",
       "Female    641\n",
       "Name: count, dtype: int64"
      ]
     },
     "execution_count": 16,
     "metadata": {},
     "output_type": "execute_result"
    }
   ],
   "source": [
    "df.Gender.value_counts()"
   ]
  },
  {
   "cell_type": "code",
   "execution_count": 17,
   "id": "178556f6-7379-41ea-a6d9-53aa754d18f3",
   "metadata": {},
   "outputs": [],
   "source": [
    "# since number of males is more, we impute null value with males using the mode\n",
    "\n",
    "df['Gender'].fillna(df['Gender'].mode()[0], inplace= True)"
   ]
  },
  {
   "cell_type": "markdown",
   "id": "5b1f03d1-ebc1-4410-9632-49e49446fbec",
   "metadata": {},
   "source": [
    "# YOB"
   ]
  },
  {
   "cell_type": "code",
   "execution_count": 18,
   "id": "19438012-79bf-4d6e-8d45-74ce2a67b3e7",
   "metadata": {},
   "outputs": [
    {
     "data": {
      "text/plain": [
       "array(['2006', '1991', '1977', '1956', '1997', '1995', '2003', '1965',\n",
       "       '1975', '1963', '1980', '2007', '2004', '2001', '1959', '2009',\n",
       "       '1983', '1971', '1974', '1969', '2000', '1988', '1999', '1998',\n",
       "       '1990', '1987', '1986', '1967', '1985', '1976', '2005', '1989',\n",
       "       '1958', '1981', '1962', '1964', '1955', '2002', '1996', '1961',\n",
       "       '1957', '1994', '1979', '1978', '1960', '1982', '1926', nan,\n",
       "       '1952', '2012', 'unknown', '2014', '1940', '2010', '1925', '1993',\n",
       "       '1929', '1943', '1984', '1931', '1947', '1934', '1923', '1941',\n",
       "       '1933', '1953', '2015', '2013', '1921', '1970', '1930', '1972',\n",
       "       '1992', '1928', '1945', '1944', '1948', '1966', '1942', '1937',\n",
       "       '1922', '1924', '1939', '1938', '1968', '1920', '1935', '1973',\n",
       "       '1946', '1936', '2008', '1949', '1932', '1951', '1954', '1950',\n",
       "       '2011', '1927'], dtype=object)"
      ]
     },
     "execution_count": 18,
     "metadata": {},
     "output_type": "execute_result"
    }
   ],
   "source": [
    "df.YOB.unique()"
   ]
  },
  {
   "cell_type": "code",
   "execution_count": 19,
   "id": "57f77461-8795-40bf-a521-948552535cfd",
   "metadata": {},
   "outputs": [],
   "source": [
    "df['YOB'] = pd.to_numeric(df['YOB'], errors= 'coerce')\n",
    "\n",
    "df['YOB'] = df['YOB'].fillna(df['YOB'].median())\n",
    "\n",
    "df['YOB'] = df['YOB'].astype(int)"
   ]
  },
  {
   "cell_type": "code",
   "execution_count": 20,
   "id": "f6fc58e1-a0c7-4b2f-aabe-c2223dc27e14",
   "metadata": {},
   "outputs": [
    {
     "data": {
      "text/plain": [
       "array([2006, 1991, 1977, 1956, 1997, 1995, 2003, 1965, 1975, 1963, 1980,\n",
       "       2007, 2004, 2001, 1959, 2009, 1983, 1971, 1974, 1969, 2000, 1988,\n",
       "       1999, 1998, 1990, 1987, 1986, 1967, 1985, 1976, 2005, 1989, 1958,\n",
       "       1981, 1962, 1964, 1955, 2002, 1996, 1961, 1957, 1994, 1979, 1978,\n",
       "       1960, 1982, 1926, 1973, 1952, 2012, 2014, 1940, 2010, 1925, 1993,\n",
       "       1929, 1943, 1984, 1931, 1947, 1934, 1923, 1941, 1933, 1953, 2015,\n",
       "       2013, 1921, 1970, 1930, 1972, 1992, 1928, 1945, 1944, 1948, 1966,\n",
       "       1942, 1937, 1922, 1924, 1939, 1938, 1968, 1920, 1935, 1946, 1936,\n",
       "       2008, 1949, 1932, 1951, 1954, 1950, 2011, 1927])"
      ]
     },
     "execution_count": 20,
     "metadata": {},
     "output_type": "execute_result"
    }
   ],
   "source": [
    "df.YOB.unique()"
   ]
  },
  {
   "cell_type": "markdown",
   "id": "54060316-8378-4e45-84d1-ed402f0d4b34",
   "metadata": {},
   "source": [
    "# Marital Status"
   ]
  },
  {
   "cell_type": "code",
   "execution_count": 21,
   "id": "c9620da9-7eee-4747-9ef7-868ef30c1b24",
   "metadata": {},
   "outputs": [
    {
     "data": {
      "text/plain": [
       "array(['Single', 'Married', 'Divorced', nan], dtype=object)"
      ]
     },
     "execution_count": 21,
     "metadata": {},
     "output_type": "execute_result"
    }
   ],
   "source": [
    "df['Marital Status'].unique()"
   ]
  },
  {
   "cell_type": "code",
   "execution_count": 22,
   "id": "52c5abe4-6962-4492-a995-ef0f737cf927",
   "metadata": {},
   "outputs": [
    {
     "data": {
      "text/plain": [
       "Marital Status\n",
       "Single      328\n",
       "Married     279\n",
       "Divorced    224\n",
       "Name: count, dtype: int64"
      ]
     },
     "execution_count": 22,
     "metadata": {},
     "output_type": "execute_result"
    }
   ],
   "source": [
    "df['Marital Status'].value_counts()"
   ]
  },
  {
   "cell_type": "markdown",
   "id": "25de92df-f8a7-413b-8bff-e6711b3f136d",
   "metadata": {},
   "source": [
    "# Occupation_Status"
   ]
  },
  {
   "cell_type": "code",
   "execution_count": 23,
   "id": "0eebb8a0-947f-4ec1-8fe6-27273018bfc9",
   "metadata": {},
   "outputs": [
    {
     "data": {
      "text/plain": [
       "array(['Professional', 'Student', 'Stunent', 'Swudent', 'Saudent',\n",
       "       'Profesiional', 'Puofessional', 'Professioyal', 'ytudent',\n",
       "       'Prwfessional', 'Prqfessional', 'xrofessional', 'Pmofessional',\n",
       "       'Spudent', 'Profyssional', 'Professiznal', 'Pqofessional',\n",
       "       'Professionkl', 'Pjofessional', 'Professionaa', 'Studekt',\n",
       "       'ktudent', 'rrofessional', 'Studenk', 'Stydent', 'dtudent',\n",
       "       'Ppofessional', 'Professiosal', 'Pwofessional', 'Studens',\n",
       "       'Professiowal', 'Professzonal', 'Ssudent', 'Stuwent',\n",
       "       'Proeessional', 'Studnnt', 'Studect', 'Studenh', 'Stuhent',\n",
       "       'Professionaj', 'Stwdent', 'Studenx', 'Studeut', 'crofessional',\n",
       "       'Profeesional', 'Professionsl', 'ttudent', 'Stxdent',\n",
       "       'Professgonal', 'Studenv', 'Stuvent', 'Studenw', 'Profbssional',\n",
       "       'Sturent', 'ztudent', 'Profeqsional', 'Profensional', 'Studezt',\n",
       "       'Professioual', 'mrofessional', 'Stident', 'brofessional',\n",
       "       'vrofessional', 'etudent', 'Professiongl', 'Professitnal',\n",
       "       'Pronessional', 'Profwssional', 'Professimnal', 'Prosessional',\n",
       "       'rtudent', 'Sxudent', 'Soudent', 'Professxonal', 'Pnofessional',\n",
       "       'Piofessional', 'drofessional', 'Studenn', 'Proaessional',\n",
       "       'btudent', 'Professiknal', 'Stedent', 'Studeht', 'Profelsional',\n",
       "       'Prdfessional', 'Professionbl', 'Profeusional', 'Stfdent',\n",
       "       'Professioaal', 'Suudent', 'Stcdent', 'Profespional', 'Studeyt',\n",
       "       'Stsdent', 'Studenj', 'Stucent', 'Stubent', 'Studenl',\n",
       "       'yrofessional', 'ctudent', 'Stndent', 'Stueent', 'Professionag',\n",
       "       'Stqdent', 'trofessional', 'Professdonal', 'Stzdent', 'Studemt',\n",
       "       'nrofessional', 'Professionar', 'Professiodal', 'Proffssional',\n",
       "       'Profegsional', 'Studena', 'Professionai', 'xtudent', 'ltudent',\n",
       "       'Studewt', 'Stldent', 'Pzofessional', 'arofessional',\n",
       "       'Profewsional', 'Profersional', 'Profcssional', 'Profesfional',\n",
       "       'Pxofessional', 'ptudent', 'Professinnal', 'Profesxional',\n",
       "       'Smudent', 'srofessional', 'Professionat', 'Professioncl',\n",
       "       'Professeonal', 'Professionak', 'Studeqt', 'Profeshional',\n",
       "       'Profesuional', 'Stadent', 'Profassional', 'Prlfessional',\n",
       "       'Studegt', 'Studont', 'Studsnt', 'Studenm', 'Professiondl',\n",
       "       'erofessional', 'jtudent', 'Professionav', 'Professionaw',\n",
       "       'Stodent', 'Prxfessional', 'Professionac', 'Stument',\n",
       "       'Professoonal', 'urofessional', 'Professijnal', 'Probessional',\n",
       "       'Studenf', 'Studhnt', 'Professixnal', 'Professihnal',\n",
       "       'Ptofessional', 'Professfonal', 'Sttdent', 'Professignal',\n",
       "       'Profeswional', 'Professionaz', 'Prowessional', 'Professiomal',\n",
       "       'Stuoent', 'irofessional', 'Syudent', 'Professioval', 'Stpdent',\n",
       "       'Studenz', 'Studeft', 'Stujent', 'Professiozal', 'Prozessional',\n",
       "       'Profesqional', 'ntudent', 'Scudent', 'Studert', 'Profeosional',\n",
       "       'Studest', 'Srudent', 'lrofessional', 'Studvnt', 'Profnssional',\n",
       "       'Stukent', 'Profqssional', 'Studant', 'Stjdent', 'Professionad',\n",
       "       'Studjnt', 'Prgfessional', 'Professiopal'], dtype=object)"
      ]
     },
     "execution_count": 23,
     "metadata": {},
     "output_type": "execute_result"
    }
   ],
   "source": [
    "df.Occupation_Status.unique()"
   ]
  },
  {
   "cell_type": "code",
   "execution_count": 24,
   "id": "38913d39-6ae9-460d-8dd6-8f640a8e6f2c",
   "metadata": {},
   "outputs": [
    {
     "data": {
      "text/plain": [
       "array(['Professional', 'Students'], dtype=object)"
      ]
     },
     "execution_count": 24,
     "metadata": {},
     "output_type": "execute_result"
    }
   ],
   "source": [
    "# !pip install thefuzz[speedup]\n",
    "\n",
    "from thefuzz import process\n",
    "\n",
    "correct_category = ['Students', 'Professional']\n",
    "unique_vals = df['Occupation_Status'].unique()\n",
    "\n",
    "mapping = {}\n",
    "\n",
    "for val in unique_vals:\n",
    "    matching, score = process.extractOne(val, correct_category)  # Find best match with a minimum threshold (e.g., 80)\n",
    "    if score >= 80:\n",
    "        mapping[val] = matching    \n",
    "    else:\n",
    "        mapping[val] = val            # Keep original if no good match\n",
    "\n",
    "df.Occupation_Status =  df.Occupation_Status.map(mapping)     \n",
    "df.Occupation_Status.unique()"
   ]
  },
  {
   "cell_type": "markdown",
   "id": "a2372126-936e-4b6e-8463-1d3c959911f9",
   "metadata": {},
   "source": [
    "# Marital Status"
   ]
  },
  {
   "cell_type": "code",
   "execution_count": 25,
   "id": "f7d7becb-70e6-4979-ab7e-5bd9335c0cb9",
   "metadata": {},
   "outputs": [],
   "source": [
    "df['Marital Status'].fillna(df['Marital Status'].mode()[0], inplace=True)"
   ]
  },
  {
   "cell_type": "code",
   "execution_count": 26,
   "id": "35ccb039-ae79-4eda-85c6-91312e9b31db",
   "metadata": {},
   "outputs": [
    {
     "data": {
      "text/plain": [
       "Marital Status\n",
       "Single      897\n",
       "Married     279\n",
       "Divorced    224\n",
       "Name: count, dtype: int64"
      ]
     },
     "execution_count": 26,
     "metadata": {},
     "output_type": "execute_result"
    }
   ],
   "source": [
    "df['Marital Status'].value_counts()"
   ]
  },
  {
   "cell_type": "code",
   "execution_count": 27,
   "id": "2e41e59d-e0c1-4e8d-9212-cdaabddd2e6d",
   "metadata": {},
   "outputs": [
    {
     "data": {
      "text/plain": [
       "array(['3', '5', '4', '1', '2', nan, 'high', 'low'], dtype=object)"
      ]
     },
     "execution_count": 27,
     "metadata": {},
     "output_type": "execute_result"
    }
   ],
   "source": [
    "df.Budget.unique()"
   ]
  },
  {
   "cell_type": "code",
   "execution_count": 28,
   "id": "fa8c9b2c-1811-494d-a360-326b5217e0a9",
   "metadata": {},
   "outputs": [],
   "source": [
    "mapping= {'1' : 'Low',\n",
    "                 '2' : 'Low',\n",
    "                 '3' : 'Medium',\n",
    "                 '4' : 'High',\n",
    "                 '5' : 'High',\n",
    "                 'high': 'High',\n",
    "                 'low': 'Low',\n",
    "                 'nan' : np.nan}\n",
    "\n",
    "\n",
    "a = df['Budget'].str.lower().map(mapping)\n"
   ]
  },
  {
   "cell_type": "code",
   "execution_count": 29,
   "id": "d70075d0-65df-48b3-b528-df793354668a",
   "metadata": {},
   "outputs": [
    {
     "data": {
      "text/plain": [
       "Budget\n",
       "High      730\n",
       "Low       443\n",
       "Medium    227\n",
       "Name: count, dtype: int64"
      ]
     },
     "execution_count": 29,
     "metadata": {},
     "output_type": "execute_result"
    }
   ],
   "source": [
    "df['Budget'] = a.fillna(a.mode()[0])\n",
    "df.Budget.value_counts()"
   ]
  },
  {
   "cell_type": "markdown",
   "id": "663b4284-9ecd-4ce2-b806-71da029395c3",
   "metadata": {},
   "source": [
    "# Cuisines           "
   ]
  },
  {
   "cell_type": "code",
   "execution_count": 59,
   "id": "2f846d3a-6857-4648-a91c-f36e81ac2519",
   "metadata": {},
   "outputs": [
    {
     "data": {
      "text/plain": [
       "array(['Japanese', 'Indian', 'Seafood', 'Filipino', 'Italian', 'Chinese',\n",
       "       'French', 'Chinebe', 'Faench', 'Chinesk', 'Ioalian', 'Frenwh',\n",
       "       'Sejfood', 'Italiaq', 'Indiah', 'Frencx', 'Frenqh', 'Idalian',\n",
       "       'Chinete', 'Sewfood', 'Japaneee', 'Seadood', 'Chieese', 'qeafood',\n",
       "       'Seanood', 'Italiwn', 'Italitn', 'Fylipino', 'weafood', 'Seafoow',\n",
       "       'Italiaz', 'Italiah', 'Seazood', 'Frewch', 'Frenyh', 'Frecch',\n",
       "       'Chigese', 'Japaqese', 'Italwan', 'Jwpanese', 'Serfood',\n",
       "       'Filitino', 'Iqalian', 'Seafoed', 'Seafoot', 'Indran', 'Chpnese',\n",
       "       'Chinpse', 'Frenbh', 'ttalian', 'Seasood', 'Infian', 'aapanese',\n",
       "       'Fgench', 'Foench', 'Seafofd', 'Italkan', 'Seafoop', 'Seafoog',\n",
       "       'pilipino', 'Jjpanese', 'vilipino', 'Ihdian', 'Itagian', 'Chanese',\n",
       "       'Itdian', 'Filcpino', 'Czinese', 'Filipfno', 'pndian', 'Filbpino',\n",
       "       'Fretch', 'Ikalian', 'Iualian', 'Inbian', 'milipino', 'Chincse',\n",
       "       'Filipgno', 'Filhpino', 'Italiax', 'Frlipino', 'Japanrse',\n",
       "       'Filmpino', 'Inoian', 'arench', 'rndian', 'eilipino', 'silipino',\n",
       "       'Stafood', 'Indiag', 'Frenzh', 'Filipifo', 'Iwdian', 'Chinbse',\n",
       "       'Italaan', 'Itilian', 'Chineke', 'Jazanese', 'french', 'Seafzod',\n",
       "       'Frenca', 'Japanesu', 'bhinese', 'Chinece', 'andian', 'Chunese',\n",
       "       'Italiag', 'Fqench', 'Japinese', 'Chinesc', 'Inyian', 'Indias',\n",
       "       'crench', 'Chinesn', 'Chinfse', 'Indfan', 'Indixn', 'Frencb',\n",
       "       'Seafpod', 'Filiuino', 'Itklian', 'Filipinl', 'Seofood', 'Skafood',\n",
       "       'Frknch', 'chinese', 'Indifn', 'Itauian', 'Filihino', 'Indiar',\n",
       "       'Jappnese', 'Japenese', 'Filipiro', 'gapanese', 'Feench',\n",
       "       'Italixn', 'Filypino', 'Indzan', 'gtalian', 'Frgnch', 'Ingian',\n",
       "       'Chixese', 'Seauood', 'Indiax', 'Fclipino', 'Japaneoe', 'Segfood',\n",
       "       'Chcnese', 'Italiun', 'Filieino', 'khinese', 'Chrnese', 'Filipido',\n",
       "       'italian', 'zrench', 'Fwlipino', 'jndian', 'Japanesd', 'Itabian',\n",
       "       'Frencs', 'Ixalian', 'Frenoh', 'Filipinj', 'Frtnch', 'Indiaz',\n",
       "       'Sevfood', 'Jaeanese', 'Japanpse', 'Icdian', 'Fisipino',\n",
       "       'hilipino', 'Ixdian', 'Seafooa', 'Fpench', 'Italiae', 'Itglian',\n",
       "       'Frencj', 'Seafcod', 'Searood', 'Filzpino', 'nilipino', 'Itamian',\n",
       "       'Sdafood', 'Jipanese', 'xeafood', 'ktalian', 'Indikn', 'Icalian',\n",
       "       'Japanehe', 'nndian', 'teafood', 'Filipigo', 'Frenlh', 'qtalian',\n",
       "       'Seaiood', 'Italizn', 'Fyench', 'Iedian', 'Cfinese', 'Filipine',\n",
       "       'trench', 'Freych', 'Iodian', 'Filipinc', 'endian', 'Seafgod',\n",
       "       'Itayian', 'Italiar', 'Imalian', 'Indign', 'fndian', 'Frencp',\n",
       "       'Frefch', 'Srafood', 'Indvan', 'Spafood', 'Sesfood', 'eapanese',\n",
       "       'ahinese', 'Fijipino', 'Ijalian', 'Frepch', 'Italjan', 'Indiin',\n",
       "       'Chizese', 'Fibipino', 'Jepanese', 'Filiwino', 'Cminese',\n",
       "       'Japamese', 'Chinesz', 'Filipeno', 'uilipino', 'Seayood'],\n",
       "      dtype=object)"
      ]
     },
     "execution_count": 59,
     "metadata": {},
     "output_type": "execute_result"
    }
   ],
   "source": [
    "df.Cuisines.unique()"
   ]
  },
  {
   "cell_type": "code",
   "execution_count": 65,
   "id": "717a0966-52e4-46cf-bae3-e31abf7b739a",
   "metadata": {},
   "outputs": [
    {
     "data": {
      "text/plain": [
       "array(['Japanese', 'Indian', 'Seafood', 'Filipino', 'Italian', 'Chinese',\n",
       "       'French'], dtype=object)"
      ]
     },
     "execution_count": 65,
     "metadata": {},
     "output_type": "execute_result"
    }
   ],
   "source": [
    "correct_cat_Cuisines = ['Japanese', 'Indian', 'Seafood', 'Filipino', 'Italian', 'Chinese', 'French']\n",
    "unique_vals_Cuisines = df['Cuisines'].unique()\n",
    "\n",
    "mapping_Cuisines = {}\n",
    "\n",
    "for Cuisines in unique_vals_Cuisines:\n",
    "    match, score = process.extractOne(Cuisines, correct_cat_Cuisines)\n",
    "    if score >= 80:\n",
    "        mapping_Cuisines[Cuisines] = match\n",
    "    else:\n",
    "        mapping_Cuisines[Cuisines] = Cuisines \n",
    "\n",
    "df.Cuisines = df.Cuisines.map(mapping_Cuisines)\n",
    "df.Cuisines.unique()"
   ]
  },
  {
   "cell_type": "code",
   "execution_count": 30,
   "id": "84377f71-aa28-4d09-a7d0-88eb5e398396",
   "metadata": {},
   "outputs": [
    {
     "name": "stdout",
     "output_type": "stream",
     "text": [
      "<class 'pandas.core.frame.DataFrame'>\n",
      "RangeIndex: 1400 entries, 0 to 1399\n",
      "Data columns (total 15 columns):\n",
      " #   Column             Non-Null Count  Dtype \n",
      "---  ------             --------------  ----- \n",
      " 0   User ID            1400 non-null   int64 \n",
      " 1   Area code          1400 non-null   int64 \n",
      " 2   Location           1400 non-null   object\n",
      " 3   Gender             1400 non-null   object\n",
      " 4   YOB                1400 non-null   int64 \n",
      " 5   Marital Status     1400 non-null   object\n",
      " 6   Occupation_Status  1400 non-null   object\n",
      " 7   Budget             1400 non-null   object\n",
      " 8   Cuisines           1400 non-null   object\n",
      " 9   Alcohol            200 non-null    object\n",
      " 10  Smoker             975 non-null    object\n",
      " 11  Food Rating        1344 non-null   object\n",
      " 12  Service Rating     1335 non-null   object\n",
      " 13  Overall Rating     1090 non-null   object\n",
      " 14  Often A S          979 non-null    object\n",
      "dtypes: int64(3), object(12)\n",
      "memory usage: 164.2+ KB\n"
     ]
    }
   ],
   "source": [
    "df.info()"
   ]
  },
  {
   "cell_type": "markdown",
   "id": "0d9cc8bd-ba8d-4c73-9277-e6b8f94385ed",
   "metadata": {},
   "source": [
    "# Alcohol"
   ]
  },
  {
   "cell_type": "code",
   "execution_count": 31,
   "id": "6a3cc603-691d-41a1-8b91-ccc0d029755e",
   "metadata": {},
   "outputs": [],
   "source": [
    "df.columns = df.columns.str.strip() # Because Alcohol is having an extra space"
   ]
  },
  {
   "cell_type": "code",
   "execution_count": 32,
   "id": "cdeb20c1-3184-4a7d-bb8e-a2476699bc6d",
   "metadata": {},
   "outputs": [
    {
     "data": {
      "text/plain": [
       "Index(['User ID', 'Area code', 'Location', 'Gender', 'YOB', 'Marital Status',\n",
       "       'Occupation_Status', 'Budget', 'Cuisines', 'Alcohol', 'Smoker',\n",
       "       'Food Rating', 'Service Rating', 'Overall Rating', 'Often A S'],\n",
       "      dtype='object')"
      ]
     },
     "execution_count": 32,
     "metadata": {},
     "output_type": "execute_result"
    }
   ],
   "source": [
    "df.columns"
   ]
  },
  {
   "cell_type": "code",
   "execution_count": 33,
   "id": "07b369a3-2288-41c4-8f18-25f5241f2d1e",
   "metadata": {},
   "outputs": [
    {
     "data": {
      "text/plain": [
       "array(['Never', 'Often', 'Socially', nan], dtype=object)"
      ]
     },
     "execution_count": 33,
     "metadata": {},
     "output_type": "execute_result"
    }
   ],
   "source": [
    "df.Alcohol.unique()"
   ]
  },
  {
   "cell_type": "code",
   "execution_count": 34,
   "id": "7a6b3297-670c-4c0a-a256-87f3e80e99e5",
   "metadata": {},
   "outputs": [
    {
     "data": {
      "text/plain": [
       "Alcohol\n",
       "Never       88\n",
       "Often       61\n",
       "Socially    51\n",
       "Name: count, dtype: int64"
      ]
     },
     "execution_count": 34,
     "metadata": {},
     "output_type": "execute_result"
    }
   ],
   "source": [
    "df.Alcohol.value_counts()"
   ]
  },
  {
   "cell_type": "code",
   "execution_count": 35,
   "id": "6cf899cf-bea7-4240-b1c8-3de296eb3579",
   "metadata": {},
   "outputs": [],
   "source": [
    "# Imputing the Alcohol column with the most frequent value that Never\n",
    "\n",
    "df['Alcohol'].fillna(df['Alcohol'].mode()[0], inplace= True)\n"
   ]
  },
  {
   "cell_type": "code",
   "execution_count": 36,
   "id": "151b5135-831b-43f6-9758-2aec1d839a13",
   "metadata": {},
   "outputs": [
    {
     "data": {
      "text/plain": [
       "Alcohol\n",
       "Never       1288\n",
       "Often         61\n",
       "Socially      51\n",
       "Name: count, dtype: int64"
      ]
     },
     "execution_count": 36,
     "metadata": {},
     "output_type": "execute_result"
    }
   ],
   "source": [
    "df.Alcohol.value_counts()"
   ]
  },
  {
   "cell_type": "markdown",
   "id": "f6829685-f0f7-4d1a-92ec-64dfdfc9bed4",
   "metadata": {},
   "source": [
    "# Smoker"
   ]
  },
  {
   "cell_type": "code",
   "execution_count": 37,
   "id": "4f269c51-762c-4bef-8994-af7685f13006",
   "metadata": {},
   "outputs": [
    {
     "data": {
      "text/plain": [
       "array(['Never', 'Socially', 'Often', nan, 'occasionally'], dtype=object)"
      ]
     },
     "execution_count": 37,
     "metadata": {},
     "output_type": "execute_result"
    }
   ],
   "source": [
    "df.Smoker.unique()"
   ]
  },
  {
   "cell_type": "code",
   "execution_count": 38,
   "id": "40ae6ffd-7754-4585-9e42-d74cdd3f7d30",
   "metadata": {},
   "outputs": [
    {
     "data": {
      "text/plain": [
       "Smoker\n",
       "Socially        284\n",
       "Often           252\n",
       "Never           246\n",
       "occasionally    193\n",
       "Name: count, dtype: int64"
      ]
     },
     "execution_count": 38,
     "metadata": {},
     "output_type": "execute_result"
    }
   ],
   "source": [
    "df.Smoker.value_counts()"
   ]
  },
  {
   "cell_type": "code",
   "execution_count": 39,
   "id": "6ad95016-db25-45b5-b7a6-bc32c5faec26",
   "metadata": {},
   "outputs": [],
   "source": [
    "# Imputing Smoker column with the most frequent value that Socially\n",
    "\n",
    "df['Smoker'] = df['Smoker'].fillna(df['Smoker'].mode()[0])"
   ]
  },
  {
   "cell_type": "code",
   "execution_count": 40,
   "id": "8dd8645b-dae0-49eb-b54a-5c6061d6136d",
   "metadata": {},
   "outputs": [
    {
     "data": {
      "text/plain": [
       "Smoker\n",
       "Socially        709\n",
       "Often           252\n",
       "Never           246\n",
       "occasionally    193\n",
       "Name: count, dtype: int64"
      ]
     },
     "execution_count": 40,
     "metadata": {},
     "output_type": "execute_result"
    }
   ],
   "source": [
    "df.Smoker.value_counts()"
   ]
  },
  {
   "cell_type": "markdown",
   "id": "908ed28d-d002-4de3-b6fe-e3899316744d",
   "metadata": {},
   "source": [
    "# Food Rating"
   ]
  },
  {
   "cell_type": "code",
   "execution_count": 41,
   "id": "d79a1228-9e44-4f80-910a-1135fbd6b50c",
   "metadata": {},
   "outputs": [
    {
     "data": {
      "text/plain": [
       "array(['5', '1', '3', '2', '4', 'excellent', nan, '6'], dtype=object)"
      ]
     },
     "execution_count": 41,
     "metadata": {},
     "output_type": "execute_result"
    }
   ],
   "source": [
    "df['Food Rating'].unique()"
   ]
  },
  {
   "cell_type": "code",
   "execution_count": 42,
   "id": "ff39a173-e165-4ac4-9374-6f0fa1837d33",
   "metadata": {},
   "outputs": [
    {
     "data": {
      "text/plain": [
       "array([5, 1, 3, 2, 4])"
      ]
     },
     "execution_count": 42,
     "metadata": {},
     "output_type": "execute_result"
    }
   ],
   "source": [
    "df['Food Rating'] = df['Food Rating'].replace(['excellent','6'], np.nan)\n",
    "\n",
    "df['Food Rating'] = pd.to_numeric(df['Food Rating'], errors= 'coerce')\n",
    "\n",
    "df['Food Rating'] = df['Food Rating'].fillna(df['Food Rating'].mean())\n",
    "df['Food Rating'] = df['Food Rating'].astype(int)\n",
    "df['Food Rating'].unique()"
   ]
  },
  {
   "cell_type": "markdown",
   "id": "aa7b3df4-82ad-4265-af4e-a3b0374d3059",
   "metadata": {},
   "source": [
    "# Service Rating"
   ]
  },
  {
   "cell_type": "code",
   "execution_count": 43,
   "id": "6ae6b343-2f3b-4aef-87ca-c68b410ce25e",
   "metadata": {},
   "outputs": [
    {
     "data": {
      "text/plain": [
       "array(['4', '1', '5', '2', '3', nan, 'excellent', '6'], dtype=object)"
      ]
     },
     "execution_count": 43,
     "metadata": {},
     "output_type": "execute_result"
    }
   ],
   "source": [
    "df['Service Rating'].unique()"
   ]
  },
  {
   "cell_type": "code",
   "execution_count": 44,
   "id": "9f37f78e-9e04-4994-9f7d-1b391adecc8c",
   "metadata": {},
   "outputs": [
    {
     "data": {
      "text/plain": [
       "array([4, 1, 5, 2, 3])"
      ]
     },
     "execution_count": 44,
     "metadata": {},
     "output_type": "execute_result"
    }
   ],
   "source": [
    "df['Service Rating'] = df['Service Rating'].replace(['excellent','6'], np.nan)\n",
    "\n",
    "df['Service Rating'] = pd.to_numeric(df['Service Rating'], errors= 'coerce')\n",
    "\n",
    "df['Service Rating'] = df['Service Rating'].fillna(df['Service Rating'].mean())\n",
    "df['Service Rating'] = df['Service Rating'].astype(int)\n",
    "df['Service Rating'].unique()"
   ]
  },
  {
   "cell_type": "markdown",
   "id": "3d69c7db-719e-4590-ab5b-a363aaf538be",
   "metadata": {},
   "source": [
    "# Overall Rating"
   ]
  },
  {
   "cell_type": "code",
   "execution_count": 45,
   "id": "bed814b7-b11b-45a8-be8e-2ad8c162a72f",
   "metadata": {},
   "outputs": [
    {
     "data": {
      "text/plain": [
       "array(['4.5', '1', '5', '2', '3', '2.5', '3.5', '1.5', '4', nan,\n",
       "       'excellent'], dtype=object)"
      ]
     },
     "execution_count": 45,
     "metadata": {},
     "output_type": "execute_result"
    }
   ],
   "source": [
    "df['Overall Rating'].unique()"
   ]
  },
  {
   "cell_type": "code",
   "execution_count": 46,
   "id": "70083cce-5612-4520-a7e8-2c576dc1324c",
   "metadata": {},
   "outputs": [
    {
     "data": {
      "text/plain": [
       "array([4.5, 1. , 5. , 2. , 3. , 2.5, 3.5, 1.5, 4. , 3.2])"
      ]
     },
     "execution_count": 46,
     "metadata": {},
     "output_type": "execute_result"
    }
   ],
   "source": [
    "df['Overall Rating'] = df['Overall Rating'].replace('excellent', np.nan)\n",
    "\n",
    "df['Overall Rating'] = pd.to_numeric(df['Overall Rating'] , errors='coerce')\n",
    "\n",
    "df['Overall Rating'] = df['Overall Rating'].fillna(df['Overall Rating'].mean())\n",
    "df['Overall Rating'] = df['Overall Rating'].round(1)\n",
    "\n",
    "df['Overall Rating'].unique()"
   ]
  },
  {
   "cell_type": "code",
   "execution_count": 47,
   "id": "8e3ea4f7-60bf-4b8c-b91d-7c5eb408cf5f",
   "metadata": {},
   "outputs": [],
   "source": [
    "df.drop(columns=['Often A S'], axis= 1 , inplace= True) "
   ]
  },
  {
   "cell_type": "code",
   "execution_count": 48,
   "id": "3f267932-2352-4758-8992-1a0ff56b6f6e",
   "metadata": {},
   "outputs": [
    {
     "name": "stdout",
     "output_type": "stream",
     "text": [
      "<class 'pandas.core.frame.DataFrame'>\n",
      "RangeIndex: 1400 entries, 0 to 1399\n",
      "Data columns (total 14 columns):\n",
      " #   Column             Non-Null Count  Dtype  \n",
      "---  ------             --------------  -----  \n",
      " 0   User ID            1400 non-null   int64  \n",
      " 1   Area code          1400 non-null   int64  \n",
      " 2   Location           1400 non-null   object \n",
      " 3   Gender             1400 non-null   object \n",
      " 4   YOB                1400 non-null   int64  \n",
      " 5   Marital Status     1400 non-null   object \n",
      " 6   Occupation_Status  1400 non-null   object \n",
      " 7   Budget             1400 non-null   object \n",
      " 8   Cuisines           1400 non-null   object \n",
      " 9   Alcohol            1400 non-null   object \n",
      " 10  Smoker             1400 non-null   object \n",
      " 11  Food Rating        1400 non-null   int64  \n",
      " 12  Service Rating     1400 non-null   int64  \n",
      " 13  Overall Rating     1400 non-null   float64\n",
      "dtypes: float64(1), int64(5), object(8)\n",
      "memory usage: 153.2+ KB\n"
     ]
    }
   ],
   "source": [
    "df.info()"
   ]
  },
  {
   "cell_type": "markdown",
   "id": "c8c8316a-69c1-4ccc-b12f-d34209b94afc",
   "metadata": {},
   "source": [
    "# Univariate Analysis\n",
    "\n",
    "* The term univariate analysis refers to the analysis of one variable prefix “uni” means “one.” The purpose of univariate analysis is to understand the distribution of values for a single variable.\n",
    "\n",
    "Other Type of Analysis are\n",
    "* **Bivariate Analysis:** The analysis of two variables.\n",
    "* **Multivariate Analysis:** The analysis of two or more variables."
   ]
  },
  {
   "cell_type": "code",
   "execution_count": 49,
   "id": "187e8c25-6e71-4ab3-8c28-ec47f07138fa",
   "metadata": {},
   "outputs": [],
   "source": [
    "# define numerical & categorical columns\n",
    "\n",
    "numeric_features = [num for num in df.columns if df[num].dtypes in ['int64','float64'] ]\n",
    "categorical_features = [cat for cat in df.columns if df[cat].dtypes not in ['int64' , 'float64']]\n",
    "\n",
    "numeric_features = numeric_features[1:]\n",
    "categorical_features = categorical_features[1:]"
   ]
  },
  {
   "cell_type": "code",
   "execution_count": 50,
   "id": "872e5a99-8bf3-446a-a320-a2d8aa93e755",
   "metadata": {},
   "outputs": [
    {
     "data": {
      "image/png": "[encoded data removed]",
      "text/plain": [
       "<Figure size 2000x800 with 5 Axes>"
      ]
     },
     "metadata": {},
     "output_type": "display_data"
    }
   ],
   "source": [
    "plt.figure(figsize=(20,8))\n",
    "plt.suptitle('Univariate Analysis of Numerical Features', fontsize = 20, fontweight = 'bold')\n",
    "\n",
    "for i in range(0,len(numeric_features)):\n",
    "    plt.subplot(2,3, i+1)\n",
    "    sns.kdeplot(x = df[numeric_features[i]], color='blue')\n",
    "    plt.xlabel(numeric_features[i])\n",
    "\n"
   ]
  },
  {
   "cell_type": "markdown",
   "id": "3a140f5e-1f23-4bcd-ad52-8cfeb20d0a7d",
   "metadata": {},
   "source": [
    "*Report of the univariate analytis*\n",
    "1. `Area_code` is following a normally distributed. Area Code looks like a number, but it actually represents regions — not real measurements. The values are spread out fairly evenly between around 100 and 200.\n",
    "2. `YOB`  There's a peak around 1970–2000, suggesting most entries are recent adults.\n",
    "3. `Food Rating` Shows multimodal peaks at 1, 3, and 5. This means people have very different views — some really like it (rating 5), some really dislike it (rating 1), and some are in the middle (rating 3).\n",
    "4. `Service Rating` Similar to Food Rating, but with higher concentration at 3. So, people generally felt neutral or average about it.\n",
    "5. `Overall Rating` Strong central peak at rating 3, with minor bumps at 4.5–5. This might be because people often avoid giving very low or very high ratings.\n"
   ]
  },
  {
   "cell_type": "markdown",
   "id": "c65f9149-0300-43d6-8d35-794700cef1e1",
   "metadata": {},
   "source": [
    "# Categorical Features"
   ]
  },
  {
   "cell_type": "code",
   "execution_count": 74,
   "id": "344a73d9-26ec-4023-acdc-4b08518d1501",
   "metadata": {},
   "outputs": [
    {
     "data": {
      "image/png": "[encoded data removed]",
      "text/plain": [
       "<Figure size 1800x1400 with 7 Axes>"
      ]
     },
     "metadata": {},
     "output_type": "display_data"
    }
   ],
   "source": [
    "plt.figure(figsize=(18,14))\n",
    "plt.suptitle('Univariate Analysis of Categorical Features', fontsize = 20, fontweight = 'bold')\n",
    "\n",
    "for i in range(0,len(categorical_features)):\n",
    "    plt.subplot(3,3, i+1)\n",
    "    ax = sns.countplot(x = df[categorical_features[i]], color= 'blue')\n",
    "    for p in ax.patches:\n",
    "        ax.annotate('{:.1f}'.format(p.get_height()), (p.get_x()+0.25, p.get_height()+0.01))\n",
    "    plt.xticks(rotation = 45)\n",
    "    plt.xlabel(categorical_features[i])\n",
    "    plt.tight_layout()"
   ]
  },
  {
   "cell_type": "markdown",
   "id": "6c3ed081-4b40-4c87-bc58-38a9fc45d29a",
   "metadata": {},
   "source": [
    "**Report**\n",
    "\n",
    "* For column **`Gender`**\n",
    "\n",
    "  * The dataset shows a nearly balanced gender distribution.\n",
    "  * **Male** customers are slightly more at **750**, followed by **Female** at **649**.\n",
    "\n",
    "* For column **`Marital Status`**\n",
    "\n",
    "  * Most customers are **Single (937)**.\n",
    "  * **Married (279)** and **Divorced (224)** customers are also present in fair numbers.\n",
    "\n",
    "* For column **`Occupation_Status`**\n",
    "\n",
    "  * The count is nearly equal between **Professionals (691)** and **Students (707)**.\n",
    "  * This indicates a mix of working individuals and those still pursuing studies.\n",
    "\n",
    "* For column **`Budget`**\n",
    "\n",
    "  * A majority of the customers belong to the **High** budget category (**710**).\n",
    "  * Followed by **Low (419)** and the least being **Medium (227)**.\n",
    "  * This suggests a spending power skewed toward the higher end.\n",
    "\n",
    "* For column **`Cuisines`**\n",
    "\n",
    "  * Preferences are quite spread out, with top choices being:\n",
    "\n",
    "    * **French (213)**, **Italian (216)**, **South Indian (214)**, and **Japanese (180)**.\n",
    "  * This reflects a diverse food interest across international and regional cuisines.\n",
    "\n",
    "* For column **`Alcohol`**\n",
    "\n",
    "  * The dominant category is **Never (1288)**, showing most customers don’t drink.\n",
    "  * Only a few consume **Often (61)** or **Socially (51)**.\n",
    "\n",
    "* For column **`Smoker`**\n",
    "\n",
    "  * **Socially (739)** is the most common smoking habit.\n",
    "  * Followed by **Other (252)**, **Never (246)**, and **Occasionally (193)**.\n",
    "  * Social smoking is more common than habitual or non-smoking.\n",
    "\n"
   ]
  },
  {
   "cell_type": "markdown",
   "id": "1608bb64-b32f-41e6-b5f9-73c81594ea5b",
   "metadata": {},
   "source": [
    "# Multivariate Analysis"
   ]
  },
  {
   "cell_type": "markdown",
   "id": "91a789e6-e06a-40b3-9f5d-2a5699d2448b",
   "metadata": {},
   "source": [
    "* Multivariate analysis is the analysis of more than one variable."
   ]
  },
  {
   "cell_type": "markdown",
   "id": "9d6e587c-cb1c-442e-8630-8645849ad016",
   "metadata": {},
   "source": [
    "### Check Multicollinearity in Numerical features"
   ]
  },
  {
   "cell_type": "code",
   "execution_count": 81,
   "id": "89156444-9b52-4734-9c47-5a9570ed2216",
   "metadata": {},
   "outputs": [
    {
     "data": {
      "image/png": "[encoded data removed]",
      "text/plain": [
       "<Figure size 640x480 with 2 Axes>"
      ]
     },
     "metadata": {},
     "output_type": "display_data"
    }
   ],
   "source": [
    "corr = df[numeric_features].corr()\n",
    "\n",
    "sns.heatmap(corr, annot= True, cmap = 'coolwarm')\n",
    "plt.suptitle('Correlation Between Numerical columns', fontsize=20, fontweight = 'bold')\n",
    "plt.show()"
   ]
  },
  {
   "cell_type": "markdown",
   "id": "28296723-0b6e-4bb1-8892-dcb7b4be2593",
   "metadata": {},
   "source": [
    "\n",
    "### **Correlation Between Numerical Columns**\n",
    "\n",
    "* For column **`Overall Rating`**\n",
    "\n",
    "  * Shows **weak positive correlation** with:\n",
    "\n",
    "    * **Service Rating** (**0.10**)\n",
    "    * **Food Rating** (**0.068**)\n",
    "    * These weak correlations suggest that higher food and service ratings slightly contribute to better overall ratings, but not strongly.\n",
    "  * Very minimal or no correlation with:\n",
    "\n",
    "    * **Area Code** (**-0.0006**) and\n",
    "    * **Year of Birth (YOB)** (**0.036**)\n",
    "\n",
    "\n",
    "\n",
    "* For column **`Service Rating`**\n",
    "\n",
    "  * Weakly positively correlated with:\n",
    "\n",
    "    * **Overall Rating** (**0.10**)\n",
    "    * **Food Rating** (**0.029**)\n",
    "\n",
    "\n",
    "\n",
    "* For column **`Food Rating`**\n",
    "\n",
    "  * Almost **no correlation** with:\n",
    "\n",
    "    * **Area Code** (**-0.008**)\n",
    "    * **YOB** (**0.013**)\n",
    "\n",
    "\n",
    "* For column **`YOB (Year of Birth)`**\n",
    "\n",
    "  * Weak **negative correlation** with **Area Code** (**-0.092**)\n",
    "  * Very low correlations with other variables.\n",
    "\n",
    "\n",
    "\n",
    "* For column **`Area Code`**\n",
    "\n",
    "  * No meaningful correlation with any feature (all values close to zero).\n",
    "\n",
    "\n",
    "\n",
    "### Conclusion:\n",
    "\n",
    "* The dataset shows **very weak correlations** among numerical variables.\n",
    "* **Service Rating** has the **strongest influence** on **Overall Rating**, though still weak (**0.10**).\n",
    "* **Area Code** and **Year of Birth** appear **irrelevant** to customer satisfaction (Overall Rating).\n",
    "\n",
    "\n",
    "\n"
   ]
  },
  {
   "cell_type": "markdown",
   "id": "bb7270ac-6eac-4012-aa3a-a6bd3660ace2",
   "metadata": {},
   "source": [
    "### **Overall Rating vs Various factors**"
   ]
  },
  {
   "cell_type": "code",
   "execution_count": 123,
   "id": "669a399b-5a07-489e-88e8-971388166ccc",
   "metadata": {},
   "outputs": [
    {
     "data": {
      "image/png": "[encoded data removed]",
      "text/plain": [
       "<Figure size 1600x1000 with 5 Axes>"
      ]
     },
     "metadata": {},
     "output_type": "display_data"
    }
   ],
   "source": [
    "overall_rating_VS_all = ['Budget', 'Alcohol','Service Rating', 'Food Rating', 'Cuisines']\n",
    "\n",
    "plt.figure(figsize=(16, 10))\n",
    "plt.suptitle('Overall Rating vs Various Factors', fontsize=18, fontweight='bold')\n",
    "\n",
    "for i in range(0,len(overall_rating_VS_all)):\n",
    "    plt.subplot(3,2, i+1)\n",
    "    sns.boxplot(x = df[overall_rating_VS_all[i]], y= df['Overall Rating'])\n",
    "    plt.title(f'{overall_rating_VS_all[i]}', fontsize=14)\n",
    "    plt.tight_layout()\n"
   ]
  },
  {
   "cell_type": "markdown",
   "id": "9c3ffab6-d0d4-4b1a-bc0f-df276a05192c",
   "metadata": {},
   "source": [
    "### **Report: Overall Rating vs Various Factors**\n",
    "\n",
    "#### **1. Budget vs Overall Rating**\n",
    "\n",
    "* All **budget groups (Low, Medium, High)** have similar **average (median) ratings** around 3–3.5.\n",
    "* However, **Low budget customers** gave a wider range of ratings – some very high, some low.\n",
    "* This suggests that **budget does not strongly affect satisfaction**.\n",
    "\n",
    "\n",
    "\n",
    "#### **2. Alcohol Consumption vs Overall Rating**\n",
    "\n",
    "* People who drink **Socially or Often** tend to give **slightly higher ratings** than those who **Never** drink.\n",
    "* But again, the differences are not huge — satisfaction is fairly consistent across all alcohol consumption levels.\n",
    "\n",
    "\n",
    "\n",
    "#### **3. Service Rating vs Overall Rating**\n",
    "\n",
    "* As **Service Rating increases**, the **Overall Rating also increases**.\n",
    "* Customers who gave **Service Rating 4 or 5** usually gave **high overall ratings**, showing a clear **positive relationship**.\n",
    "* Poor service (ratings 1–2) often leads to **low overall satisfaction**.\n",
    "\n",
    "\n",
    "\n",
    "#### **4. Food Rating vs Overall Rating**\n",
    "\n",
    "* Similar to service, higher **Food Ratings (4–5)** lead to **higher Overall Ratings**.\n",
    "* This shows that **food quality has a strong impact** on how customers feel overall.\n",
    "\n",
    "\n",
    "\n",
    "### **Conclusion:**\n",
    "\n",
    "* **Food and Service Quality** matter the most for customers' overall experience.\n",
    "* **Budget and Alcohol habits** don’t make a big difference in satisfaction.\n",
    "* To improve overall ratings, focus on **better food and service**.\n",
    "\n",
    "\n"
   ]
  },
  {
   "cell_type": "markdown",
   "id": "60d0302c-6b40-4ba5-b72f-e608dfe1d00c",
   "metadata": {},
   "source": [
    "\n",
    "\n",
    "#### **Japanese**:\n",
    "\n",
    "* **Median rating** is **around 3.3**\n",
    "* **Most ratings** are between **3 and 4**\n",
    "* **Less spread** = People mostly agree on their rating\n",
    "* A few **outliers** (some gave very low or very high scores)\n",
    "\n",
    "#### **Indian**:\n",
    "\n",
    "* **Wide spread** of ratings (1 to 5)\n",
    "* Median around **3**\n",
    "* Some people **loved it (rating 5)**, others **hated it (rating 1)**\n",
    "\n",
    "####  **Seafood**:\n",
    "\n",
    "* Lower median (about **2.8**)\n",
    "* Not many people gave high ratings\n",
    "* Mostly **average to low** opinions\n",
    "\n",
    "#### **Filipino**:\n",
    "\n",
    "* Median around **3.2**\n",
    "* Ratings go from 1 to 5 — quite a **wide range**\n",
    "* People had **mixed opinions**\n",
    "\n",
    "#### **Italian**:\n",
    "\n",
    "* Median around **3.2**\n",
    "* Overall **balanced spread** of ratings\n",
    "* Some people rated it very high\n",
    "\n",
    "####  **Chinese**:\n",
    "\n",
    "* Same as Italian — median around **3.2**\n",
    "* Fairly even spread\n",
    "\n",
    "#### **French**:\n",
    "\n",
    "* Median also around **3.2**\n",
    "* Some **very high** ratings (5)\n",
    "* Some **very low**, so people had **different experiences**\n",
    "\n",
    "\n",
    "\n",
    "###  Conclusion:\n",
    "\n",
    "* **Japanese cuisine** got the most **consistent ratings** (less variation).\n",
    "* **Indian and French cuisines** had people who **loved or hated them** — a **big mix** of opinions.\n",
    "* **Seafood** got **lower ratings overall**.\n",
    "* All other cuisines (Filipino, Italian, Chinese) had **average to good** ratings.\n",
    "\n"
   ]
  },
  {
   "cell_type": "markdown",
   "id": "86bdbd72-f1c8-405a-ae67-0c051d1f20fd",
   "metadata": {},
   "source": [
    "#  **Restaurant Customer Ratings – Data Analysis Report**"
   ]
  },
  {
   "cell_type": "markdown",
   "id": "3e72258d-2274-4354-921b-e7033bf40758",
   "metadata": {},
   "source": [
    "\n",
    "\n",
    "##  **Problem Statement**\n",
    "\n",
    "To understand how different factors — including food quality, service, budget preferences, alcohol consumption, and cuisine type — influence **Overall Customer Ratings** in restaurants, based on exploratory data analysis (EDA).\n",
    "\n",
    "\n",
    "##  **Key Insights**\n",
    "\n",
    "### 1.  **Food & Service Quality Drive Satisfaction**\n",
    "\n",
    "* **Food Rating** and **Service Rating** show the **strongest positive correlation** with **Overall Rating**.\n",
    "* This suggests that improving food and service is the most direct path to improving customer satisfaction.\n",
    "\n",
    "\n",
    "\n",
    "### 2.  **Budget Influences Perception**\n",
    "\n",
    "* Customers in the **high-budget** group (Budget 5) give significantly **higher ratings**.\n",
    "* Lower-budget groups (Budget 1 or 2) tend to give **lower satisfaction scores**.\n",
    "* Indicates that **higher spending aligns with better overall experiences**, possibly due to better service or ambiance.\n",
    "\n",
    "\n",
    "\n",
    "### 3. **Alcohol Consumption Patterns Matter**\n",
    "\n",
    "* **\"Social\" drinkers** tend to give **higher overall ratings** than \"Never\" or \"Often\" drinkers.\n",
    "* Ratings among **\"Often\" drinkers** show high **variability**, suggesting inconsistent experiences.\n",
    "\n",
    "\n",
    "\n",
    "### 4.  **Cuisine Performance Varies**\n",
    "\n",
    "* **Japanese cuisine** has the **most consistent positive ratings** — indicating a reliably strong customer experience.\n",
    "* **Indian** and **French cuisines** show **bimodal trends** — customers either love them or hate them.\n",
    "* **Seafood** restaurants generally perform **below average** in ratings.\n",
    "* **Filipino, Chinese, and Italian** cuisines receive **moderate to good** ratings.\n",
    "\n",
    "\n",
    "\n",
    "### 5.  **Smoker Status Has Minimal Effect**\n",
    "\n",
    "* A slight trend shows **non-smokers** giving marginally better ratings, but the difference is **not substantial**.\n",
    "* **Smoker behavior** does **not appear to be a key driver** of satisfaction.\n",
    "\n",
    "\n",
    "\n",
    "\n",
    "##  **Recommendations**\n",
    "\n",
    "### 1. **Prioritize Food & Service Excellence**\n",
    "\n",
    "* Focus on improving **kitchen quality** and **staff training** — these are the most influential factors on customer satisfaction.\n",
    "\n",
    "### 2. **Tailor Experiences by Budget Segment**\n",
    "\n",
    "* For **high-budget customers**, maintain a **premium experience**.\n",
    "* For **lower-budget diners**, identify **specific pain points** and low-cost ways to enhance satisfaction.\n",
    "\n",
    "### 3. **Optimize Alcohol Offerings**\n",
    "\n",
    "* For **social drinkers**, ensure a welcoming atmosphere and well-curated alcohol menu.\n",
    "* For **frequent drinkers**, investigate the **variability** in experience to drive consistency.\n",
    "\n",
    "### 4. **Target Cuisine-Based Improvements**\n",
    "\n",
    "* For **Indian and French cuisines**, investigate **why experiences are polarized** — focus on consistency and quality.\n",
    "* **Seafood restaurants** should re-evaluate their offerings — freshness and preparation quality may need improvement.\n",
    "* **Japanese cuisine providers** should continue maintaining their **high standards**.\n",
    "\n",
    "\n",
    "\n",
    "\n",
    "##  **Conclusion**\n",
    "\n",
    "This analysis shows that while food and service are the primary drivers of satisfaction, **budget expectations, alcohol behavior, \n",
    "and cuisine preferences** also play important roles. By aligning offerings with these insights, restaurants can significantly enhance the\n",
    "**dining experience** and **overall customer satisfaction**.\n",
    "\n",
    "\n"
   ]
  },
  {
   "cell_type": "code",
   "execution_count": null,
   "id": "7ad8eadf-49f7-40d7-9d2a-6d746b1a4740",
   "metadata": {},
   "outputs": [],
   "source": []
  },
  {
   "cell_type": "code",
   "execution_count": null,
   "id": "ae916a61-87e1-463b-806c-a53deb8decbc",
   "metadata": {},
   "outputs": [],
   "source": []
  }
 ],
 "metadata": {
  "kernelspec": {
   "display_name": "Python 3 (ipykernel)",
   "language": "python",
   "name": "python3"
  },
  "language_info": {
   "codemirror_mode": {
    "name": "ipython",
    "version": 3
   },
   "file_extension": ".py",
   "mimetype": "text/x-python",
   "name": "python",
   "nbconvert_exporter": "python",
   "pygments_lexer": "ipython3",
   "version": "3.9.21"
  }
 },
 "nbformat": 4,
 "nbformat_minor": 5
}
